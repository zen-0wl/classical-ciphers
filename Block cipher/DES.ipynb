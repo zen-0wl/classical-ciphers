{
 "cells": [
  {
   "cell_type": "code",
   "execution_count": 19,
   "metadata": {},
   "outputs": [
    {
     "name": "stdout",
     "output_type": "stream",
     "text": [
      "Plain text → Hello World\n",
      "\n",
      "Using DES block cipher ↓\n",
      "Encrypted text:  b'\\n\\xe9}\\xdcy7~\\xa2\\x1b\\x94\\xf4\\xe7\\x1f#\\xf9\\xa3'\n",
      "Decrypted text:  b'Hello World'\n"
     ]
    }
   ],
   "source": [
    "# DES Block cipher \n",
    "from Crypto import Random\n",
    "from Crypto.Cipher import DES\n",
    "from Crypto.Util import Padding\n",
    "\n",
    "def encrypt_des(key, plaintext):\n",
    "    des = DES.new(key, DES.MODE_ECB)\n",
    "    plaintext = Padding.pad(plaintext, 8)\n",
    "    ciphertext = des.encrypt(plaintext)\n",
    "    return ciphertext\n",
    "\n",
    "def decrypt_des(key, ciphertext):\n",
    "    des = DES.new(key, DES.MODE_ECB)\n",
    "    plaintext = des.decrypt(ciphertext)\n",
    "    plaintext = Padding.unpad(plaintext, 8)\n",
    "    return plaintext\n",
    "\n",
    "# Example \n",
    "key = Random.get_random_bytes(8)  # Generates a random 8-byte key\n",
    "plaintext = b\"Hello World\"\n",
    "\n",
    "# To remove b from output\n",
    "ptext = \"Hello World\"\n",
    "\n",
    "print(\"Plain text → \" + ptext)\n",
    "print(\"\\nUsing DES block cipher ↓\")\n",
    "ciphertext = encrypt_des(key, plaintext)\n",
    "print(\"Encrypted text: \",ciphertext)\n",
    "\n",
    "decrypted_text = decrypt_des(key, ciphertext)\n",
    "print(\"Decrypted text: \",decrypted_text)"
   ]
  }
 ],
 "metadata": {
  "kernelspec": {
   "display_name": "Python 3",
   "language": "python",
   "name": "python3"
  },
  "language_info": {
   "codemirror_mode": {
    "name": "ipython",
    "version": 3
   },
   "file_extension": ".py",
   "mimetype": "text/x-python",
   "name": "python",
   "nbconvert_exporter": "python",
   "pygments_lexer": "ipython3",
   "version": "3.11.0"
  },
  "orig_nbformat": 4,
  "vscode": {
   "interpreter": {
    "hash": "ad7ae21f7c050dac50066c373f8c3ac8118ed5639e8d6726494cfc77eb7b1bb0"
   }
  }
 },
 "nbformat": 4,
 "nbformat_minor": 2
}
