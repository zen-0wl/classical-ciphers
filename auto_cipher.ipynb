{
 "cells": [
  {
   "cell_type": "code",
   "execution_count": 1,
   "metadata": {},
   "outputs": [
    {
     "name": "stdout",
     "output_type": "stream",
     "text": [
      "Plain text: COMFY MATTRESS\n",
      "\n",
      "Using autokey cipher ↓\n",
      "The encrypted text: PWOJA AMYRDELL\n",
      "The decrypted text:  COMFY MATTRESS\n"
     ]
    }
   ],
   "source": [
    "# Autokey cipher\n",
    "import sys\n",
    " \n",
    "# index of elements stored in dictionaries \n",
    "d1 = {'A': 0, 'B': 1, 'C': 2, 'D': 3, 'E': 4,'F': 5,\n",
    "      'G': 6, 'H': 7, 'I': 8, 'J': 9, 'K': 10,\n",
    "      'L': 11, 'M': 12, 'N': 13, 'O': 14, 'P': 15,\n",
    "      'Q': 16, 'R': 17, 'S': 18, 'T': 19,'U': 20, 'V': 21,\n",
    "      'W': 22, 'X': 23, 'Y': 24, 'Z': 25}\n",
    "\n",
    "d2 = {0: 'A', 1: 'B', 2: 'C', 3: 'D', 4: 'E',\n",
    "      5: 'F', 6: 'G', 7: 'H', 8: 'I', 9: 'J',\n",
    "     10: 'K', 11: 'L', 12: 'M', 13: 'N', 14: 'O',\n",
    "     15: 'P', 16: 'Q', 17: 'R', 18: 'S', 19: 'T',\n",
    "     20: 'U', 21: 'V', 22: 'W', 23: 'X', 24: 'Y', 25: 'Z'}\n",
    "\n",
    "# defined function to generate key \n",
    "def generatekey(text, key):\n",
    "    x = 0\n",
    "    # while loop to generate new key \n",
    "    while True:\n",
    "        if len(key) == len(text):\n",
    "            break\n",
    "        if text[x] == \" \":\n",
    "            x += 1 # increment it \n",
    "        else:\n",
    "            key += text[x] # increment the text key element \n",
    "            x += 1\n",
    "    return key\n",
    "\n",
    "# Autokey encryption \n",
    "def encryption(text, newkey):\n",
    "    encryp_txt = \" \"\n",
    "    x = 0\n",
    "    for letter in text:\n",
    "        if letter == \" \":\n",
    "            encryp_txt += \" \"\n",
    "        else:\n",
    "            # formulate to encipher text from plaintext by addition\n",
    "            y = (d1[letter] + d1[newkey[x]]) % 26\n",
    "            x += 1 # increment it\n",
    "            encryp_txt += d2[y]\n",
    "    return encryp_txt\n",
    "\n",
    "# Autokey decryption \n",
    "def decryption(encryp_txt, newkey):\n",
    "    decryp_txt = \" \"\n",
    "    x = 0 \n",
    "    for letter in encryp_txt:\n",
    "        if letter == \" \":\n",
    "            decryp_txt += \" \"\n",
    "        else:\n",
    "            # formulate to decipher text to original by substraction\n",
    "            y = (d1[letter] - d1[newkey[x]]) % 26\n",
    "            x += 1\n",
    "            decryp_txt += d2[y]\n",
    "    return decryp_txt\n",
    "\n",
    "# main function\n",
    "def main():\n",
    "    text = \"COMFY MATTRESS\"\n",
    "    key = \"NICE\"\n",
    "    newkey = generatekey(text, key)\n",
    "    encryp_txt = encryption(text, newkey)\n",
    "    decryp_txt = decryption(encryp_txt, newkey)\n",
    "    # output the enciphered and deciphered texts after display of plain text\n",
    "    print(\"Plain text: \" + text + \"\\n\")\n",
    "    print(\"Using autokey cipher ↓\")\n",
    "    print(\"The encrypted text:\" + encryp_txt)\n",
    "    print(\"The decrypted text:\" + decryp_txt) \n",
    "\n",
    "# Executes main \n",
    "if __name__ == \"__main__\":\n",
    "    main()"
   ]
  }
 ],
 "metadata": {
  "kernelspec": {
   "display_name": "Python 3.11.0 64-bit",
   "language": "python",
   "name": "python3"
  },
  "language_info": {
   "codemirror_mode": {
    "name": "ipython",
    "version": 3
   },
   "file_extension": ".py",
   "mimetype": "text/x-python",
   "name": "python",
   "nbconvert_exporter": "python",
   "pygments_lexer": "ipython3",
   "version": "3.11.0"
  },
  "orig_nbformat": 4,
  "vscode": {
   "interpreter": {
    "hash": "ad7ae21f7c050dac50066c373f8c3ac8118ed5639e8d6726494cfc77eb7b1bb0"
   }
  }
 },
 "nbformat": 4,
 "nbformat_minor": 2
}
