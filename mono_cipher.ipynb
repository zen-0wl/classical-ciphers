{
 "cells": [
  {
   "cell_type": "code",
   "execution_count": 1,
   "metadata": {},
   "outputs": [
    {
     "name": "stdout",
     "output_type": "stream",
     "text": [
      "Welcome, this program secures texts using monoalphabetic cipher.\n",
      "\n",
      "Using the allocated key, QWERTYUIOPASDFGHJKLZXCVBNM\n",
      "\n",
      "The encryption of the text:  Bcsvizc ei lcvdcvf, mckd kocyel!\n"
     ]
    }
   ],
   "source": [
    "import sys, random \n",
    "\n",
    "letters = \"abcdefghijklmnopqrstuvwxyz\"\n",
    "\n",
    "# main function\n",
    "def main():\n",
    "    text = \"Welcome to secrecy, dear agents!\"\n",
    "    key = \"QWERTYUIOPASDFGHJKLZXCVBNM\"\n",
    "\n",
    "    # take user input for switchmode i.e to encrypt/decrypt text\n",
    "    switchmode = input(\"Do you wish to encrypt/decrypt the given text? \\n\")\n",
    "    #switch mode validation using if statements \n",
    "    if switchmode == \"encrypt\":\n",
    "        operation = encryption(key, text)\n",
    "    elif switchmode == \"decrypt\":\n",
    "        operation = decryption(key, text)\n",
    "    print(\"Welcome, this program secures texts using monoalphabetic cipher.\\n\")\n",
    "    print(\"Using the allocated key, \" + key + \"\\n\")\n",
    "    print(\"The \" + switchmode + \"ion of the text: \" + operation)\n",
    "\n",
    "# Monoalphabetic encryption \n",
    "def encryption(Key, text):\n",
    "    return operated_text(Key, text, \"encrypt\")\n",
    "\n",
    "# Monoalphabetic decryption\n",
    "def decryption(Key, text):\n",
    "    return operated_text(Key, text, \"decrypt\")\n",
    "\n",
    "# defined function to do the operation of encryption and decryption\n",
    "def operated_text(Key, text, switchmode):\n",
    "    operation = \" \"\n",
    "    A = letters \n",
    "    B = Key \n",
    "    # for decryption, the strings of letters and keys are swapped \n",
    "    if switchmode == \"encrypt\":\n",
    "        A, B = B, A \n",
    "\n",
    "    # Each key in the text is looped through using for loop\n",
    "    for keys in text:\n",
    "        if keys.upper() in A:\n",
    "            # encrypt / decrypt it \n",
    "            index = A.find(keys.upper())\n",
    "            if keys.isupper():\n",
    "                operation += B[index].upper()\n",
    "            else:\n",
    "                operation += B[index].lower()\n",
    "        else:\n",
    "            # the keys present are not in assigned letters\n",
    "            operation += keys # increment it \n",
    "    return operation\n",
    "\n",
    "# generate random key \n",
    "def randomkey():\n",
    "    Key = list(letters)\n",
    "    random.shuffle(Key)\n",
    "    return \" \".join(Key)\n",
    "\n",
    "main()"
   ]
  }
 ],
 "metadata": {
  "kernelspec": {
   "display_name": "Python 3.11.0 64-bit",
   "language": "python",
   "name": "python3"
  },
  "language_info": {
   "codemirror_mode": {
    "name": "ipython",
    "version": 3
   },
   "file_extension": ".py",
   "mimetype": "text/x-python",
   "name": "python",
   "nbconvert_exporter": "python",
   "pygments_lexer": "ipython3",
   "version": "3.11.0"
  },
  "orig_nbformat": 4,
  "vscode": {
   "interpreter": {
    "hash": "ad7ae21f7c050dac50066c373f8c3ac8118ed5639e8d6726494cfc77eb7b1bb0"
   }
  }
 },
 "nbformat": 4,
 "nbformat_minor": 2
}
